{
 "cells": [
  {
   "cell_type": "markdown",
   "metadata": {},
   "source": [
    "# Polars Example\n",
    "This is a little example using the `nu_plugin_polars` to showcase that you can use dataframes pretty well with this kernel. The `nu_plugin_polars` is based on the dataframe libray [Polars](https://polar.rs), it is completely written in Rust (just like this kernel) and executes dataframes way faster that [Pandas](https://pandas.pydata.org), but do consider that we loose some performance in form of communication from your jupyter client, to the kernel, to the plugin and all the way back. It should be still fast to use.\n",
    "\n",
    "To start using the plugin, you need to have it installed, this can easily be done via `cargo install nu_plugin_polars` on a machine that has the full Rust toolchain installed. Then you need to add the plugin to your plugin registry, if you have `nushell` installed (I guess so, because you are using this kernel), you simply run `plugin add <absolute-path-to-your-plugin>`, this will add it to your plugin registry and this kernel will be able to pick it up. If you don't have `nushell` on your machine (kinda weird, not gonna lie), you can also run the `plugin add` command in a notebook, for further help try to run `plugin --help` or check the [Plugins section](https://www.nushell.sh/book/plugins.html) on the nushell website."
   ]
  },
  {
   "cell_type": "markdown",
   "metadata": {},
   "source": [
    "Plugins in `nushell` are automatically loaded from your registry when you open the shell. However, for this kernel they need to be loaded manually, this ensures that other users of your notebook understand where some of the commands you're using are coming from."
   ]
  },
  {
   "cell_type": "code",
   "execution_count": 1,
   "metadata": {},
   "outputs": [],
   "source": [
    "# load the `polars` plugin to use its commands\n",
    "plugin use polars"
   ]
  },
  {
   "cell_type": "markdown",
   "metadata": {},
   "source": [
    "You also need some data for this notebook. This is using the [New Zealand business demography](https://www.stats.govt.nz/assets/Uploads/New-Zealand-business-demography-statistics/New-Zealand-business-demography-statistics-At-February-2020/Download-data/Geographic-units-by-industry-and-statistical-area-2000-2020-descending-order-CSV.zip) dataset. You can load it via the adjacent `polars-data.nu` file. If that run succesfully you should see in the `ls data` output the file `Data7602DescendingYearOrder.csv`."
   ]
  },
  {
   "cell_type": "code",
   "execution_count": 2,
   "metadata": {},
   "outputs": [
    {
     "data": {
      "text/markdown": [
       "|name|type|size|modified|\n",
       "|-|-|-|-|\n",
       "|data\\Data7602DescendingYearOrder.csv|file|129.3 MiB|Wed, 5 Oct 2022 14:44:48 +0200 (2 years ago)|\n",
       "|data\\Metadata for Data7602DescendingYearOrder.xlsx|file|106.1 KiB|Thu, 20 Oct 2022 10:41:12 +0200 (2 years ago)|\n",
       "|data\\nz-stats.zip|file|22.9 MiB|Wed, 15 May 2024 12:30:31 +0200 (4 months ago)|"
      ],
      "text/plain": [
       "name: data\\Data7602DescendingYearOrder.csv, type: file, size: 129.3 MiB, modified: Wed, 5 Oct 2022 14:44:48 +0200 (2 years ago)\r\n",
       "name: data\\Metadata for Data7602DescendingYearOrder.xlsx, type: file, size: 106.1 KiB, modified: Thu, 20 Oct 2022 10:41:12 +0200 (2 years ago)\r\n",
       "name: data\\nz-stats.zip, type: file, size: 22.9 MiB, modified: Wed, 15 May 2024 12:30:31 +0200 (4 months ago)"
      ]
     },
     "execution_count": 2,
     "metadata": {},
     "output_type": "execute_result"
    }
   ],
   "source": [
    "ls data | nuju display md"
   ]
  },
  {
   "cell_type": "markdown",
   "metadata": {},
   "source": [
    "Ok, then let's load the csv file and check that the plugin loaded it."
   ]
  },
  {
   "cell_type": "code",
   "execution_count": 3,
   "metadata": {},
   "outputs": [
    {
     "data": {
      "text/markdown": [
       "|key|created|columns|rows|type|estimated_size|span_contents|span_start|span_end|reference_count|\n",
       "|-|-|-|-|-|-|-|-|-|-|\n",
       "|208664bf-188b-4d93-9079-1eae3d7a6811|Fri, 27 Sep 2024 13:26:24 +0200 (now)|5|5985364|LazyFrame|194.0 MiB|polars open|6394|6405|1|\n"
      ],
      "text/plain": [
       "key: 208664bf-188b-4d93-9079-1eae3d7a6811, created: Fri, 27 Sep 2024 13:26:24 +0200 (now), columns: 5, rows: 5985364, type: LazyFrame, estimated_size: 194.0 MiB, span_contents: polars open, span_start: 6394, span_end: 6405, reference_count: 1"
      ]
     },
     "execution_count": 3,
     "metadata": {},
     "output_type": "execute_result"
    }
   ],
   "source": [
    "let df = polars open data/Data7602DescendingYearOrder.csv\n",
    "polars store-ls | nuju display md"
   ]
  },
  {
   "cell_type": "markdown",
   "metadata": {},
   "source": [
    "We can also check the shape and schema of the dataset."
   ]
  },
  {
   "cell_type": "code",
   "execution_count": 4,
   "metadata": {},
   "outputs": [
    {
     "data": {
      "application/json": [
       {
        "columns": 5,
        "index": 0,
        "rows": 5985364
       }
      ],
      "text/html": [
       "<div style=\"background-color:white;color:black;\">[{index: 0, rows: 5985364, columns: 5}]</div>"
      ],
      "text/markdown": [
       "[{index: 0, rows: 5985364, columns: 5}]\n"
      ],
      "text/plain": [
       "index: 0, rows: 5985364, columns: 5"
      ]
     },
     "metadata": {},
     "output_type": "display_data"
    },
    {
     "data": {
      "application/json": {
       "Area": "str",
       "anzsic06": "str",
       "ec_count": "i64",
       "geo_count": "i64",
       "year": "i64"
      },
      "text/csv": [
       "anzsic06,Area,year,geo_count,ec_count\n",
       "str,str,i64,i64,i64\n"
      ],
      "text/html": [
       "<div style=\"background-color:white;color:black;\"><table><thead><tr><th>anzsic06</th><th>Area</th><th>year</th><th>geo_count</th><th>ec_count</th></tr></thead><tbody><tr><td>str</td><td>str</td><td>i64</td><td>i64</td><td>i64</td></tr></tbody></table></div>"
      ],
      "text/markdown": [
       "|anzsic06|Area|year|geo_count|ec_count|\n",
       "|-|-|-|-|-|\n",
       "|str|str|i64|i64|i64|\n"
      ],
      "text/plain": [
       "anzsic06: str\r\n",
       "Area: str\r\n",
       "year: i64\r\n",
       "geo_count: i64\r\n",
       "ec_count: i64"
      ]
     },
     "metadata": {},
     "output_type": "display_data"
    }
   ],
   "source": [
    "$df | polars shape | nuju print\n",
    "$df | polars schema | nuju print"
   ]
  },
  {
   "cell_type": "markdown",
   "metadata": {},
   "source": [
    "And let's get a sample of the dataset."
   ]
  },
  {
   "cell_type": "code",
   "execution_count": 5,
   "metadata": {},
   "outputs": [
    {
     "data": {
      "text/markdown": [
       "|anzsic06|Area|year|geo_count|ec_count|\n",
       "|-|-|-|-|-|\n",
       "|S942|A183400|2014|3|0|\n",
       "|E322|A140700|2001|3|0|\n",
       "|J59|R13|2007|57|270|\n",
       "|C20|A346700|2014|0|6|\n",
       "|E30|A255000|2002|0|18|"
      ],
      "text/plain": [
       "anzsic06: S942, Area: A183400, year: 2014, geo_count: 3, ec_count: 0\r\n",
       "anzsic06: E322, Area: A140700, year: 2001, geo_count: 3, ec_count: 0\r\n",
       "anzsic06: J59, Area: R13, year: 2007, geo_count: 57, ec_count: 270\r\n",
       "anzsic06: C20, Area: A346700, year: 2014, geo_count: 0, ec_count: 6\r\n",
       "anzsic06: E30, Area: A255000, year: 2002, geo_count: 0, ec_count: 18"
      ]
     },
     "execution_count": 5,
     "metadata": {},
     "output_type": "execute_result"
    }
   ],
   "source": [
    "$df | polars sample -n 5 | polars into-nu | nuju display md"
   ]
  },
  {
   "cell_type": "markdown",
   "metadata": {},
   "source": [
    "And finally do some data operations on the dataset. We group the data by year, sum up the geo_count column and sort it by year. We convert the data into a `nu` object and pipe it to a `series bar` to create a nice bar chart."
   ]
  },
  {
   "cell_type": "code",
   "execution_count": 6,
   "metadata": {},
   "outputs": [
    {
     "data": {
      "image/svg+xml": [
       "<svg width=\"1000\" height=\"400\" viewBox=\"0 0 1000 400\" xmlns=\"http://www.w3.org/2000/svg\">\n",
       "<line opacity=\"0.1\" stroke=\"#000000\" stroke-width=\"1\" x1=\"80\" y1=\"364\" x2=\"80\" y2=\"10\"/>\n",
       "<line opacity=\"0.1\" stroke=\"#000000\" stroke-width=\"1\" x1=\"120\" y1=\"364\" x2=\"120\" y2=\"10\"/>\n",
       "<line opacity=\"0.1\" stroke=\"#000000\" stroke-width=\"1\" x1=\"160\" y1=\"364\" x2=\"160\" y2=\"10\"/>\n",
       "<line opacity=\"0.1\" stroke=\"#000000\" stroke-width=\"1\" x1=\"201\" y1=\"364\" x2=\"201\" y2=\"10\"/>\n",
       "<line opacity=\"0.1\" stroke=\"#000000\" stroke-width=\"1\" x1=\"241\" y1=\"364\" x2=\"241\" y2=\"10\"/>\n",
       "<line opacity=\"0.1\" stroke=\"#000000\" stroke-width=\"1\" x1=\"282\" y1=\"364\" x2=\"282\" y2=\"10\"/>\n",
       "<line opacity=\"0.1\" stroke=\"#000000\" stroke-width=\"1\" x1=\"322\" y1=\"364\" x2=\"322\" y2=\"10\"/>\n",
       "<line opacity=\"0.1\" stroke=\"#000000\" stroke-width=\"1\" x1=\"362\" y1=\"364\" x2=\"362\" y2=\"10\"/>\n",
       "<line opacity=\"0.1\" stroke=\"#000000\" stroke-width=\"1\" x1=\"403\" y1=\"364\" x2=\"403\" y2=\"10\"/>\n",
       "<line opacity=\"0.1\" stroke=\"#000000\" stroke-width=\"1\" x1=\"443\" y1=\"364\" x2=\"443\" y2=\"10\"/>\n",
       "<line opacity=\"0.1\" stroke=\"#000000\" stroke-width=\"1\" x1=\"484\" y1=\"364\" x2=\"484\" y2=\"10\"/>\n",
       "<line opacity=\"0.1\" stroke=\"#000000\" stroke-width=\"1\" x1=\"524\" y1=\"364\" x2=\"524\" y2=\"10\"/>\n",
       "<line opacity=\"0.1\" stroke=\"#000000\" stroke-width=\"1\" x1=\"564\" y1=\"364\" x2=\"564\" y2=\"10\"/>\n",
       "<line opacity=\"0.1\" stroke=\"#000000\" stroke-width=\"1\" x1=\"605\" y1=\"364\" x2=\"605\" y2=\"10\"/>\n",
       "<line opacity=\"0.1\" stroke=\"#000000\" stroke-width=\"1\" x1=\"645\" y1=\"364\" x2=\"645\" y2=\"10\"/>\n",
       "<line opacity=\"0.1\" stroke=\"#000000\" stroke-width=\"1\" x1=\"686\" y1=\"364\" x2=\"686\" y2=\"10\"/>\n",
       "<line opacity=\"0.1\" stroke=\"#000000\" stroke-width=\"1\" x1=\"726\" y1=\"364\" x2=\"726\" y2=\"10\"/>\n",
       "<line opacity=\"0.1\" stroke=\"#000000\" stroke-width=\"1\" x1=\"766\" y1=\"364\" x2=\"766\" y2=\"10\"/>\n",
       "<line opacity=\"0.1\" stroke=\"#000000\" stroke-width=\"1\" x1=\"807\" y1=\"364\" x2=\"807\" y2=\"10\"/>\n",
       "<line opacity=\"0.1\" stroke=\"#000000\" stroke-width=\"1\" x1=\"847\" y1=\"364\" x2=\"847\" y2=\"10\"/>\n",
       "<line opacity=\"0.1\" stroke=\"#000000\" stroke-width=\"1\" x1=\"888\" y1=\"364\" x2=\"888\" y2=\"10\"/>\n",
       "<line opacity=\"0.1\" stroke=\"#000000\" stroke-width=\"1\" x1=\"928\" y1=\"364\" x2=\"928\" y2=\"10\"/>\n",
       "<line opacity=\"0.1\" stroke=\"#000000\" stroke-width=\"1\" x1=\"968\" y1=\"364\" x2=\"968\" y2=\"10\"/>\n",
       "<line opacity=\"0.1\" stroke=\"#000000\" stroke-width=\"1\" x1=\"60\" y1=\"364\" x2=\"989\" y2=\"364\"/>\n",
       "<line opacity=\"0.1\" stroke=\"#000000\" stroke-width=\"1\" x1=\"60\" y1=\"360\" x2=\"989\" y2=\"360\"/>\n",
       "<line opacity=\"0.1\" stroke=\"#000000\" stroke-width=\"1\" x1=\"60\" y1=\"355\" x2=\"989\" y2=\"355\"/>\n",
       "<line opacity=\"0.1\" stroke=\"#000000\" stroke-width=\"1\" x1=\"60\" y1=\"350\" x2=\"989\" y2=\"350\"/>\n",
       "<line opacity=\"0.1\" stroke=\"#000000\" stroke-width=\"1\" x1=\"60\" y1=\"345\" x2=\"989\" y2=\"345\"/>\n",
       "<line opacity=\"0.1\" stroke=\"#000000\" stroke-width=\"1\" x1=\"60\" y1=\"340\" x2=\"989\" y2=\"340\"/>\n",
       "<line opacity=\"0.1\" stroke=\"#000000\" stroke-width=\"1\" x1=\"60\" y1=\"335\" x2=\"989\" y2=\"335\"/>\n",
       "<line opacity=\"0.1\" stroke=\"#000000\" stroke-width=\"1\" x1=\"60\" y1=\"330\" x2=\"989\" y2=\"330\"/>\n",
       "<line opacity=\"0.1\" stroke=\"#000000\" stroke-width=\"1\" x1=\"60\" y1=\"325\" x2=\"989\" y2=\"325\"/>\n",
       "<line opacity=\"0.1\" stroke=\"#000000\" stroke-width=\"1\" x1=\"60\" y1=\"320\" x2=\"989\" y2=\"320\"/>\n",
       "<line opacity=\"0.1\" stroke=\"#000000\" stroke-width=\"1\" x1=\"60\" y1=\"315\" x2=\"989\" y2=\"315\"/>\n",
       "<line opacity=\"0.1\" stroke=\"#000000\" stroke-width=\"1\" x1=\"60\" y1=\"310\" x2=\"989\" y2=\"310\"/>\n",
       "<line opacity=\"0.1\" stroke=\"#000000\" stroke-width=\"1\" x1=\"60\" y1=\"305\" x2=\"989\" y2=\"305\"/>\n",
       "<line opacity=\"0.1\" stroke=\"#000000\" stroke-width=\"1\" x1=\"60\" y1=\"300\" x2=\"989\" y2=\"300\"/>\n",
       "<line opacity=\"0.1\" stroke=\"#000000\" stroke-width=\"1\" x1=\"60\" y1=\"295\" x2=\"989\" y2=\"295\"/>\n",
       "<line opacity=\"0.1\" stroke=\"#000000\" stroke-width=\"1\" x1=\"60\" y1=\"290\" x2=\"989\" y2=\"290\"/>\n",
       "<line opacity=\"0.1\" stroke=\"#000000\" stroke-width=\"1\" x1=\"60\" y1=\"285\" x2=\"989\" y2=\"285\"/>\n",
       "<line opacity=\"0.1\" stroke=\"#000000\" stroke-width=\"1\" x1=\"60\" y1=\"281\" x2=\"989\" y2=\"281\"/>\n",
       "<line opacity=\"0.1\" stroke=\"#000000\" stroke-width=\"1\" x1=\"60\" y1=\"276\" x2=\"989\" y2=\"276\"/>\n",
       "<line opacity=\"0.1\" stroke=\"#000000\" stroke-width=\"1\" x1=\"60\" y1=\"271\" x2=\"989\" y2=\"271\"/>\n",
       "<line opacity=\"0.1\" stroke=\"#000000\" stroke-width=\"1\" x1=\"60\" y1=\"266\" x2=\"989\" y2=\"266\"/>\n",
       "<line opacity=\"0.1\" stroke=\"#000000\" stroke-width=\"1\" x1=\"60\" y1=\"261\" x2=\"989\" y2=\"261\"/>\n",
       "<line opacity=\"0.1\" stroke=\"#000000\" stroke-width=\"1\" x1=\"60\" y1=\"256\" x2=\"989\" y2=\"256\"/>\n",
       "<line opacity=\"0.1\" stroke=\"#000000\" stroke-width=\"1\" x1=\"60\" y1=\"251\" x2=\"989\" y2=\"251\"/>\n",
       "<line opacity=\"0.1\" stroke=\"#000000\" stroke-width=\"1\" x1=\"60\" y1=\"246\" x2=\"989\" y2=\"246\"/>\n",
       "<line opacity=\"0.1\" stroke=\"#000000\" stroke-width=\"1\" x1=\"60\" y1=\"241\" x2=\"989\" y2=\"241\"/>\n",
       "<line opacity=\"0.1\" stroke=\"#000000\" stroke-width=\"1\" x1=\"60\" y1=\"236\" x2=\"989\" y2=\"236\"/>\n",
       "<line opacity=\"0.1\" stroke=\"#000000\" stroke-width=\"1\" x1=\"60\" y1=\"231\" x2=\"989\" y2=\"231\"/>\n",
       "<line opacity=\"0.1\" stroke=\"#000000\" stroke-width=\"1\" x1=\"60\" y1=\"226\" x2=\"989\" y2=\"226\"/>\n",
       "<line opacity=\"0.1\" stroke=\"#000000\" stroke-width=\"1\" x1=\"60\" y1=\"221\" x2=\"989\" y2=\"221\"/>\n",
       "<line opacity=\"0.1\" stroke=\"#000000\" stroke-width=\"1\" x1=\"60\" y1=\"216\" x2=\"989\" y2=\"216\"/>\n",
       "<line opacity=\"0.1\" stroke=\"#000000\" stroke-width=\"1\" x1=\"60\" y1=\"211\" x2=\"989\" y2=\"211\"/>\n",
       "<line opacity=\"0.1\" stroke=\"#000000\" stroke-width=\"1\" x1=\"60\" y1=\"206\" x2=\"989\" y2=\"206\"/>\n",
       "<line opacity=\"0.1\" stroke=\"#000000\" stroke-width=\"1\" x1=\"60\" y1=\"202\" x2=\"989\" y2=\"202\"/>\n",
       "<line opacity=\"0.1\" stroke=\"#000000\" stroke-width=\"1\" x1=\"60\" y1=\"197\" x2=\"989\" y2=\"197\"/>\n",
       "<line opacity=\"0.1\" stroke=\"#000000\" stroke-width=\"1\" x1=\"60\" y1=\"192\" x2=\"989\" y2=\"192\"/>\n",
       "<line opacity=\"0.1\" stroke=\"#000000\" stroke-width=\"1\" x1=\"60\" y1=\"187\" x2=\"989\" y2=\"187\"/>\n",
       "<line opacity=\"0.1\" stroke=\"#000000\" stroke-width=\"1\" x1=\"60\" y1=\"182\" x2=\"989\" y2=\"182\"/>\n",
       "<line opacity=\"0.1\" stroke=\"#000000\" stroke-width=\"1\" x1=\"60\" y1=\"177\" x2=\"989\" y2=\"177\"/>\n",
       "<line opacity=\"0.1\" stroke=\"#000000\" stroke-width=\"1\" x1=\"60\" y1=\"172\" x2=\"989\" y2=\"172\"/>\n",
       "<line opacity=\"0.1\" stroke=\"#000000\" stroke-width=\"1\" x1=\"60\" y1=\"167\" x2=\"989\" y2=\"167\"/>\n",
       "<line opacity=\"0.1\" stroke=\"#000000\" stroke-width=\"1\" x1=\"60\" y1=\"162\" x2=\"989\" y2=\"162\"/>\n",
       "<line opacity=\"0.1\" stroke=\"#000000\" stroke-width=\"1\" x1=\"60\" y1=\"157\" x2=\"989\" y2=\"157\"/>\n",
       "<line opacity=\"0.1\" stroke=\"#000000\" stroke-width=\"1\" x1=\"60\" y1=\"152\" x2=\"989\" y2=\"152\"/>\n",
       "<line opacity=\"0.1\" stroke=\"#000000\" stroke-width=\"1\" x1=\"60\" y1=\"147\" x2=\"989\" y2=\"147\"/>\n",
       "<line opacity=\"0.1\" stroke=\"#000000\" stroke-width=\"1\" x1=\"60\" y1=\"142\" x2=\"989\" y2=\"142\"/>\n",
       "<line opacity=\"0.1\" stroke=\"#000000\" stroke-width=\"1\" x1=\"60\" y1=\"137\" x2=\"989\" y2=\"137\"/>\n",
       "<line opacity=\"0.1\" stroke=\"#000000\" stroke-width=\"1\" x1=\"60\" y1=\"132\" x2=\"989\" y2=\"132\"/>\n",
       "<line opacity=\"0.1\" stroke=\"#000000\" stroke-width=\"1\" x1=\"60\" y1=\"127\" x2=\"989\" y2=\"127\"/>\n",
       "<line opacity=\"0.1\" stroke=\"#000000\" stroke-width=\"1\" x1=\"60\" y1=\"123\" x2=\"989\" y2=\"123\"/>\n",
       "<line opacity=\"0.1\" stroke=\"#000000\" stroke-width=\"1\" x1=\"60\" y1=\"118\" x2=\"989\" y2=\"118\"/>\n",
       "<line opacity=\"0.1\" stroke=\"#000000\" stroke-width=\"1\" x1=\"60\" y1=\"113\" x2=\"989\" y2=\"113\"/>\n",
       "<line opacity=\"0.1\" stroke=\"#000000\" stroke-width=\"1\" x1=\"60\" y1=\"108\" x2=\"989\" y2=\"108\"/>\n",
       "<line opacity=\"0.1\" stroke=\"#000000\" stroke-width=\"1\" x1=\"60\" y1=\"103\" x2=\"989\" y2=\"103\"/>\n",
       "<line opacity=\"0.1\" stroke=\"#000000\" stroke-width=\"1\" x1=\"60\" y1=\"98\" x2=\"989\" y2=\"98\"/>\n",
       "<line opacity=\"0.1\" stroke=\"#000000\" stroke-width=\"1\" x1=\"60\" y1=\"93\" x2=\"989\" y2=\"93\"/>\n",
       "<line opacity=\"0.1\" stroke=\"#000000\" stroke-width=\"1\" x1=\"60\" y1=\"88\" x2=\"989\" y2=\"88\"/>\n",
       "<line opacity=\"0.1\" stroke=\"#000000\" stroke-width=\"1\" x1=\"60\" y1=\"83\" x2=\"989\" y2=\"83\"/>\n",
       "<line opacity=\"0.1\" stroke=\"#000000\" stroke-width=\"1\" x1=\"60\" y1=\"78\" x2=\"989\" y2=\"78\"/>\n",
       "<line opacity=\"0.1\" stroke=\"#000000\" stroke-width=\"1\" x1=\"60\" y1=\"73\" x2=\"989\" y2=\"73\"/>\n",
       "<line opacity=\"0.1\" stroke=\"#000000\" stroke-width=\"1\" x1=\"60\" y1=\"68\" x2=\"989\" y2=\"68\"/>\n",
       "<line opacity=\"0.1\" stroke=\"#000000\" stroke-width=\"1\" x1=\"60\" y1=\"63\" x2=\"989\" y2=\"63\"/>\n",
       "<line opacity=\"0.1\" stroke=\"#000000\" stroke-width=\"1\" x1=\"60\" y1=\"58\" x2=\"989\" y2=\"58\"/>\n",
       "<line opacity=\"0.1\" stroke=\"#000000\" stroke-width=\"1\" x1=\"60\" y1=\"53\" x2=\"989\" y2=\"53\"/>\n",
       "<line opacity=\"0.1\" stroke=\"#000000\" stroke-width=\"1\" x1=\"60\" y1=\"48\" x2=\"989\" y2=\"48\"/>\n",
       "<line opacity=\"0.1\" stroke=\"#000000\" stroke-width=\"1\" x1=\"60\" y1=\"44\" x2=\"989\" y2=\"44\"/>\n",
       "<line opacity=\"0.1\" stroke=\"#000000\" stroke-width=\"1\" x1=\"60\" y1=\"39\" x2=\"989\" y2=\"39\"/>\n",
       "<line opacity=\"0.1\" stroke=\"#000000\" stroke-width=\"1\" x1=\"60\" y1=\"34\" x2=\"989\" y2=\"34\"/>\n",
       "<line opacity=\"0.1\" stroke=\"#000000\" stroke-width=\"1\" x1=\"60\" y1=\"29\" x2=\"989\" y2=\"29\"/>\n",
       "<line opacity=\"0.1\" stroke=\"#000000\" stroke-width=\"1\" x1=\"60\" y1=\"24\" x2=\"989\" y2=\"24\"/>\n",
       "<line opacity=\"0.1\" stroke=\"#000000\" stroke-width=\"1\" x1=\"60\" y1=\"19\" x2=\"989\" y2=\"19\"/>\n",
       "<line opacity=\"0.1\" stroke=\"#000000\" stroke-width=\"1\" x1=\"60\" y1=\"14\" x2=\"989\" y2=\"14\"/>\n",
       "<line opacity=\"0.2\" stroke=\"#000000\" stroke-width=\"1\" x1=\"80\" y1=\"364\" x2=\"80\" y2=\"10\"/>\n",
       "<line opacity=\"0.2\" stroke=\"#000000\" stroke-width=\"1\" x1=\"120\" y1=\"364\" x2=\"120\" y2=\"10\"/>\n",
       "<line opacity=\"0.2\" stroke=\"#000000\" stroke-width=\"1\" x1=\"160\" y1=\"364\" x2=\"160\" y2=\"10\"/>\n",
       "<line opacity=\"0.2\" stroke=\"#000000\" stroke-width=\"1\" x1=\"201\" y1=\"364\" x2=\"201\" y2=\"10\"/>\n",
       "<line opacity=\"0.2\" stroke=\"#000000\" stroke-width=\"1\" x1=\"241\" y1=\"364\" x2=\"241\" y2=\"10\"/>\n",
       "<line opacity=\"0.2\" stroke=\"#000000\" stroke-width=\"1\" x1=\"282\" y1=\"364\" x2=\"282\" y2=\"10\"/>\n",
       "<line opacity=\"0.2\" stroke=\"#000000\" stroke-width=\"1\" x1=\"322\" y1=\"364\" x2=\"322\" y2=\"10\"/>\n",
       "<line opacity=\"0.2\" stroke=\"#000000\" stroke-width=\"1\" x1=\"362\" y1=\"364\" x2=\"362\" y2=\"10\"/>\n",
       "<line opacity=\"0.2\" stroke=\"#000000\" stroke-width=\"1\" x1=\"403\" y1=\"364\" x2=\"403\" y2=\"10\"/>\n",
       "<line opacity=\"0.2\" stroke=\"#000000\" stroke-width=\"1\" x1=\"443\" y1=\"364\" x2=\"443\" y2=\"10\"/>\n",
       "<line opacity=\"0.2\" stroke=\"#000000\" stroke-width=\"1\" x1=\"484\" y1=\"364\" x2=\"484\" y2=\"10\"/>\n",
       "<line opacity=\"0.2\" stroke=\"#000000\" stroke-width=\"1\" x1=\"524\" y1=\"364\" x2=\"524\" y2=\"10\"/>\n",
       "<line opacity=\"0.2\" stroke=\"#000000\" stroke-width=\"1\" x1=\"564\" y1=\"364\" x2=\"564\" y2=\"10\"/>\n",
       "<line opacity=\"0.2\" stroke=\"#000000\" stroke-width=\"1\" x1=\"605\" y1=\"364\" x2=\"605\" y2=\"10\"/>\n",
       "<line opacity=\"0.2\" stroke=\"#000000\" stroke-width=\"1\" x1=\"645\" y1=\"364\" x2=\"645\" y2=\"10\"/>\n",
       "<line opacity=\"0.2\" stroke=\"#000000\" stroke-width=\"1\" x1=\"686\" y1=\"364\" x2=\"686\" y2=\"10\"/>\n",
       "<line opacity=\"0.2\" stroke=\"#000000\" stroke-width=\"1\" x1=\"726\" y1=\"364\" x2=\"726\" y2=\"10\"/>\n",
       "<line opacity=\"0.2\" stroke=\"#000000\" stroke-width=\"1\" x1=\"766\" y1=\"364\" x2=\"766\" y2=\"10\"/>\n",
       "<line opacity=\"0.2\" stroke=\"#000000\" stroke-width=\"1\" x1=\"807\" y1=\"364\" x2=\"807\" y2=\"10\"/>\n",
       "<line opacity=\"0.2\" stroke=\"#000000\" stroke-width=\"1\" x1=\"847\" y1=\"364\" x2=\"847\" y2=\"10\"/>\n",
       "<line opacity=\"0.2\" stroke=\"#000000\" stroke-width=\"1\" x1=\"888\" y1=\"364\" x2=\"888\" y2=\"10\"/>\n",
       "<line opacity=\"0.2\" stroke=\"#000000\" stroke-width=\"1\" x1=\"928\" y1=\"364\" x2=\"928\" y2=\"10\"/>\n",
       "<line opacity=\"0.2\" stroke=\"#000000\" stroke-width=\"1\" x1=\"968\" y1=\"364\" x2=\"968\" y2=\"10\"/>\n",
       "<line opacity=\"0.2\" stroke=\"#000000\" stroke-width=\"1\" x1=\"60\" y1=\"364\" x2=\"989\" y2=\"364\"/>\n",
       "<line opacity=\"0.2\" stroke=\"#000000\" stroke-width=\"1\" x1=\"60\" y1=\"315\" x2=\"989\" y2=\"315\"/>\n",
       "<line opacity=\"0.2\" stroke=\"#000000\" stroke-width=\"1\" x1=\"60\" y1=\"266\" x2=\"989\" y2=\"266\"/>\n",
       "<line opacity=\"0.2\" stroke=\"#000000\" stroke-width=\"1\" x1=\"60\" y1=\"216\" x2=\"989\" y2=\"216\"/>\n",
       "<line opacity=\"0.2\" stroke=\"#000000\" stroke-width=\"1\" x1=\"60\" y1=\"167\" x2=\"989\" y2=\"167\"/>\n",
       "<line opacity=\"0.2\" stroke=\"#000000\" stroke-width=\"1\" x1=\"60\" y1=\"118\" x2=\"989\" y2=\"118\"/>\n",
       "<line opacity=\"0.2\" stroke=\"#000000\" stroke-width=\"1\" x1=\"60\" y1=\"68\" x2=\"989\" y2=\"68\"/>\n",
       "<line opacity=\"0.2\" stroke=\"#000000\" stroke-width=\"1\" x1=\"60\" y1=\"19\" x2=\"989\" y2=\"19\"/>\n",
       "<polyline fill=\"none\" opacity=\"1\" stroke=\"#000000\" stroke-width=\"1\" points=\"59,10 59,364 \"/>\n",
       "<text x=\"50\" y=\"364\" dy=\"0.5ex\" text-anchor=\"end\" font-family=\"sans-serif\" font-size=\"9.67741935483871\" opacity=\"1\" fill=\"#000000\">\n",
       "0\n",
       "</text>\n",
       "<polyline fill=\"none\" opacity=\"1\" stroke=\"#000000\" stroke-width=\"1\" points=\"54,364 59,364 \"/>\n",
       "<text x=\"50\" y=\"315\" dy=\"0.5ex\" text-anchor=\"end\" font-family=\"sans-serif\" font-size=\"9.67741935483871\" opacity=\"1\" fill=\"#000000\">\n",
       "2000000\n",
       "</text>\n",
       "<polyline fill=\"none\" opacity=\"1\" stroke=\"#000000\" stroke-width=\"1\" points=\"54,315 59,315 \"/>\n",
       "<text x=\"50\" y=\"266\" dy=\"0.5ex\" text-anchor=\"end\" font-family=\"sans-serif\" font-size=\"9.67741935483871\" opacity=\"1\" fill=\"#000000\">\n",
       "4000000\n",
       "</text>\n",
       "<polyline fill=\"none\" opacity=\"1\" stroke=\"#000000\" stroke-width=\"1\" points=\"54,266 59,266 \"/>\n",
       "<text x=\"50\" y=\"216\" dy=\"0.5ex\" text-anchor=\"end\" font-family=\"sans-serif\" font-size=\"9.67741935483871\" opacity=\"1\" fill=\"#000000\">\n",
       "6000000\n",
       "</text>\n",
       "<polyline fill=\"none\" opacity=\"1\" stroke=\"#000000\" stroke-width=\"1\" points=\"54,216 59,216 \"/>\n",
       "<text x=\"50\" y=\"167\" dy=\"0.5ex\" text-anchor=\"end\" font-family=\"sans-serif\" font-size=\"9.67741935483871\" opacity=\"1\" fill=\"#000000\">\n",
       "8000000\n",
       "</text>\n",
       "<polyline fill=\"none\" opacity=\"1\" stroke=\"#000000\" stroke-width=\"1\" points=\"54,167 59,167 \"/>\n",
       "<text x=\"50\" y=\"118\" dy=\"0.5ex\" text-anchor=\"end\" font-family=\"sans-serif\" font-size=\"9.67741935483871\" opacity=\"1\" fill=\"#000000\">\n",
       "10000000\n",
       "</text>\n",
       "<polyline fill=\"none\" opacity=\"1\" stroke=\"#000000\" stroke-width=\"1\" points=\"54,118 59,118 \"/>\n",
       "<text x=\"50\" y=\"68\" dy=\"0.5ex\" text-anchor=\"end\" font-family=\"sans-serif\" font-size=\"9.67741935483871\" opacity=\"1\" fill=\"#000000\">\n",
       "12000000\n",
       "</text>\n",
       "<polyline fill=\"none\" opacity=\"1\" stroke=\"#000000\" stroke-width=\"1\" points=\"54,68 59,68 \"/>\n",
       "<text x=\"50\" y=\"19\" dy=\"0.5ex\" text-anchor=\"end\" font-family=\"sans-serif\" font-size=\"9.67741935483871\" opacity=\"1\" fill=\"#000000\">\n",
       "14000000\n",
       "</text>\n",
       "<polyline fill=\"none\" opacity=\"1\" stroke=\"#000000\" stroke-width=\"1\" points=\"54,19 59,19 \"/>\n",
       "<polyline fill=\"none\" opacity=\"1\" stroke=\"#000000\" stroke-width=\"1\" points=\"60,365 989,365 \"/>\n",
       "<text x=\"80\" y=\"375\" dy=\"0.76em\" text-anchor=\"middle\" font-family=\"sans-serif\" font-size=\"9.67741935483871\" opacity=\"1\" fill=\"#000000\">\n",
       "2000\n",
       "</text>\n",
       "<polyline fill=\"none\" opacity=\"1\" stroke=\"#000000\" stroke-width=\"1\" points=\"80,365 80,370 \"/>\n",
       "<text x=\"120\" y=\"375\" dy=\"0.76em\" text-anchor=\"middle\" font-family=\"sans-serif\" font-size=\"9.67741935483871\" opacity=\"1\" fill=\"#000000\">\n",
       "2001\n",
       "</text>\n",
       "<polyline fill=\"none\" opacity=\"1\" stroke=\"#000000\" stroke-width=\"1\" points=\"120,365 120,370 \"/>\n",
       "<text x=\"160\" y=\"375\" dy=\"0.76em\" text-anchor=\"middle\" font-family=\"sans-serif\" font-size=\"9.67741935483871\" opacity=\"1\" fill=\"#000000\">\n",
       "2002\n",
       "</text>\n",
       "<polyline fill=\"none\" opacity=\"1\" stroke=\"#000000\" stroke-width=\"1\" points=\"160,365 160,370 \"/>\n",
       "<text x=\"201\" y=\"375\" dy=\"0.76em\" text-anchor=\"middle\" font-family=\"sans-serif\" font-size=\"9.67741935483871\" opacity=\"1\" fill=\"#000000\">\n",
       "2003\n",
       "</text>\n",
       "<polyline fill=\"none\" opacity=\"1\" stroke=\"#000000\" stroke-width=\"1\" points=\"201,365 201,370 \"/>\n",
       "<text x=\"241\" y=\"375\" dy=\"0.76em\" text-anchor=\"middle\" font-family=\"sans-serif\" font-size=\"9.67741935483871\" opacity=\"1\" fill=\"#000000\">\n",
       "2004\n",
       "</text>\n",
       "<polyline fill=\"none\" opacity=\"1\" stroke=\"#000000\" stroke-width=\"1\" points=\"241,365 241,370 \"/>\n",
       "<text x=\"282\" y=\"375\" dy=\"0.76em\" text-anchor=\"middle\" font-family=\"sans-serif\" font-size=\"9.67741935483871\" opacity=\"1\" fill=\"#000000\">\n",
       "2005\n",
       "</text>\n",
       "<polyline fill=\"none\" opacity=\"1\" stroke=\"#000000\" stroke-width=\"1\" points=\"282,365 282,370 \"/>\n",
       "<text x=\"322\" y=\"375\" dy=\"0.76em\" text-anchor=\"middle\" font-family=\"sans-serif\" font-size=\"9.67741935483871\" opacity=\"1\" fill=\"#000000\">\n",
       "2006\n",
       "</text>\n",
       "<polyline fill=\"none\" opacity=\"1\" stroke=\"#000000\" stroke-width=\"1\" points=\"322,365 322,370 \"/>\n",
       "<text x=\"362\" y=\"375\" dy=\"0.76em\" text-anchor=\"middle\" font-family=\"sans-serif\" font-size=\"9.67741935483871\" opacity=\"1\" fill=\"#000000\">\n",
       "2007\n",
       "</text>\n",
       "<polyline fill=\"none\" opacity=\"1\" stroke=\"#000000\" stroke-width=\"1\" points=\"362,365 362,370 \"/>\n",
       "<text x=\"403\" y=\"375\" dy=\"0.76em\" text-anchor=\"middle\" font-family=\"sans-serif\" font-size=\"9.67741935483871\" opacity=\"1\" fill=\"#000000\">\n",
       "2008\n",
       "</text>\n",
       "<polyline fill=\"none\" opacity=\"1\" stroke=\"#000000\" stroke-width=\"1\" points=\"403,365 403,370 \"/>\n",
       "<text x=\"443\" y=\"375\" dy=\"0.76em\" text-anchor=\"middle\" font-family=\"sans-serif\" font-size=\"9.67741935483871\" opacity=\"1\" fill=\"#000000\">\n",
       "2009\n",
       "</text>\n",
       "<polyline fill=\"none\" opacity=\"1\" stroke=\"#000000\" stroke-width=\"1\" points=\"443,365 443,370 \"/>\n",
       "<text x=\"484\" y=\"375\" dy=\"0.76em\" text-anchor=\"middle\" font-family=\"sans-serif\" font-size=\"9.67741935483871\" opacity=\"1\" fill=\"#000000\">\n",
       "2010\n",
       "</text>\n",
       "<polyline fill=\"none\" opacity=\"1\" stroke=\"#000000\" stroke-width=\"1\" points=\"484,365 484,370 \"/>\n",
       "<text x=\"524\" y=\"375\" dy=\"0.76em\" text-anchor=\"middle\" font-family=\"sans-serif\" font-size=\"9.67741935483871\" opacity=\"1\" fill=\"#000000\">\n",
       "2011\n",
       "</text>\n",
       "<polyline fill=\"none\" opacity=\"1\" stroke=\"#000000\" stroke-width=\"1\" points=\"524,365 524,370 \"/>\n",
       "<text x=\"564\" y=\"375\" dy=\"0.76em\" text-anchor=\"middle\" font-family=\"sans-serif\" font-size=\"9.67741935483871\" opacity=\"1\" fill=\"#000000\">\n",
       "2012\n",
       "</text>\n",
       "<polyline fill=\"none\" opacity=\"1\" stroke=\"#000000\" stroke-width=\"1\" points=\"564,365 564,370 \"/>\n",
       "<text x=\"605\" y=\"375\" dy=\"0.76em\" text-anchor=\"middle\" font-family=\"sans-serif\" font-size=\"9.67741935483871\" opacity=\"1\" fill=\"#000000\">\n",
       "2013\n",
       "</text>\n",
       "<polyline fill=\"none\" opacity=\"1\" stroke=\"#000000\" stroke-width=\"1\" points=\"605,365 605,370 \"/>\n",
       "<text x=\"645\" y=\"375\" dy=\"0.76em\" text-anchor=\"middle\" font-family=\"sans-serif\" font-size=\"9.67741935483871\" opacity=\"1\" fill=\"#000000\">\n",
       "2014\n",
       "</text>\n",
       "<polyline fill=\"none\" opacity=\"1\" stroke=\"#000000\" stroke-width=\"1\" points=\"645,365 645,370 \"/>\n",
       "<text x=\"686\" y=\"375\" dy=\"0.76em\" text-anchor=\"middle\" font-family=\"sans-serif\" font-size=\"9.67741935483871\" opacity=\"1\" fill=\"#000000\">\n",
       "2015\n",
       "</text>\n",
       "<polyline fill=\"none\" opacity=\"1\" stroke=\"#000000\" stroke-width=\"1\" points=\"686,365 686,370 \"/>\n",
       "<text x=\"726\" y=\"375\" dy=\"0.76em\" text-anchor=\"middle\" font-family=\"sans-serif\" font-size=\"9.67741935483871\" opacity=\"1\" fill=\"#000000\">\n",
       "2016\n",
       "</text>\n",
       "<polyline fill=\"none\" opacity=\"1\" stroke=\"#000000\" stroke-width=\"1\" points=\"726,365 726,370 \"/>\n",
       "<text x=\"766\" y=\"375\" dy=\"0.76em\" text-anchor=\"middle\" font-family=\"sans-serif\" font-size=\"9.67741935483871\" opacity=\"1\" fill=\"#000000\">\n",
       "2017\n",
       "</text>\n",
       "<polyline fill=\"none\" opacity=\"1\" stroke=\"#000000\" stroke-width=\"1\" points=\"766,365 766,370 \"/>\n",
       "<text x=\"807\" y=\"375\" dy=\"0.76em\" text-anchor=\"middle\" font-family=\"sans-serif\" font-size=\"9.67741935483871\" opacity=\"1\" fill=\"#000000\">\n",
       "2018\n",
       "</text>\n",
       "<polyline fill=\"none\" opacity=\"1\" stroke=\"#000000\" stroke-width=\"1\" points=\"807,365 807,370 \"/>\n",
       "<text x=\"847\" y=\"375\" dy=\"0.76em\" text-anchor=\"middle\" font-family=\"sans-serif\" font-size=\"9.67741935483871\" opacity=\"1\" fill=\"#000000\">\n",
       "2019\n",
       "</text>\n",
       "<polyline fill=\"none\" opacity=\"1\" stroke=\"#000000\" stroke-width=\"1\" points=\"847,365 847,370 \"/>\n",
       "<text x=\"888\" y=\"375\" dy=\"0.76em\" text-anchor=\"middle\" font-family=\"sans-serif\" font-size=\"9.67741935483871\" opacity=\"1\" fill=\"#000000\">\n",
       "2020\n",
       "</text>\n",
       "<polyline fill=\"none\" opacity=\"1\" stroke=\"#000000\" stroke-width=\"1\" points=\"888,365 888,370 \"/>\n",
       "<text x=\"928\" y=\"375\" dy=\"0.76em\" text-anchor=\"middle\" font-family=\"sans-serif\" font-size=\"9.67741935483871\" opacity=\"1\" fill=\"#000000\">\n",
       "2021\n",
       "</text>\n",
       "<polyline fill=\"none\" opacity=\"1\" stroke=\"#000000\" stroke-width=\"1\" points=\"928,365 928,370 \"/>\n",
       "<text x=\"968\" y=\"375\" dy=\"0.76em\" text-anchor=\"middle\" font-family=\"sans-serif\" font-size=\"9.67741935483871\" opacity=\"1\" fill=\"#000000\">\n",
       "2022\n",
       "</text>\n",
       "<polyline fill=\"none\" opacity=\"1\" stroke=\"#000000\" stroke-width=\"1\" points=\"968,365 968,370 \"/>\n",
       "<rect x=\"64\" y=\"140\" width=\"32\" height=\"224\" opacity=\"1\" fill=\"#1E6414\" stroke=\"none\"/>\n",
       "<rect x=\"104\" y=\"141\" width=\"32\" height=\"223\" opacity=\"1\" fill=\"#1E6414\" stroke=\"none\"/>\n",
       "<rect x=\"144\" y=\"139\" width=\"33\" height=\"225\" opacity=\"1\" fill=\"#1E6414\" stroke=\"none\"/>\n",
       "<rect x=\"185\" y=\"131\" width=\"32\" height=\"233\" opacity=\"1\" fill=\"#1E6414\" stroke=\"none\"/>\n",
       "<rect x=\"225\" y=\"111\" width=\"32\" height=\"253\" opacity=\"1\" fill=\"#1E6414\" stroke=\"none\"/>\n",
       "<rect x=\"265\" y=\"100\" width=\"33\" height=\"264\" opacity=\"1\" fill=\"#1E6414\" stroke=\"none\"/>\n",
       "<rect x=\"306\" y=\"90\" width=\"32\" height=\"274\" opacity=\"1\" fill=\"#1E6414\" stroke=\"none\"/>\n",
       "<rect x=\"346\" y=\"84\" width=\"33\" height=\"280\" opacity=\"1\" fill=\"#1E6414\" stroke=\"none\"/>\n",
       "<rect x=\"387\" y=\"78\" width=\"32\" height=\"286\" opacity=\"1\" fill=\"#1E6414\" stroke=\"none\"/>\n",
       "<rect x=\"427\" y=\"76\" width=\"32\" height=\"288\" opacity=\"1\" fill=\"#1E6414\" stroke=\"none\"/>\n",
       "<rect x=\"467\" y=\"80\" width=\"33\" height=\"284\" opacity=\"1\" fill=\"#1E6414\" stroke=\"none\"/>\n",
       "<rect x=\"508\" y=\"80\" width=\"32\" height=\"284\" opacity=\"1\" fill=\"#1E6414\" stroke=\"none\"/>\n",
       "<rect x=\"548\" y=\"80\" width=\"33\" height=\"284\" opacity=\"1\" fill=\"#1E6414\" stroke=\"none\"/>\n",
       "<rect x=\"589\" y=\"78\" width=\"32\" height=\"286\" opacity=\"1\" fill=\"#1E6414\" stroke=\"none\"/>\n",
       "<rect x=\"629\" y=\"68\" width=\"32\" height=\"296\" opacity=\"1\" fill=\"#1E6414\" stroke=\"none\"/>\n",
       "<rect x=\"669\" y=\"61\" width=\"33\" height=\"303\" opacity=\"1\" fill=\"#1E6414\" stroke=\"none\"/>\n",
       "<rect x=\"710\" y=\"54\" width=\"32\" height=\"310\" opacity=\"1\" fill=\"#1E6414\" stroke=\"none\"/>\n",
       "<rect x=\"750\" y=\"46\" width=\"33\" height=\"318\" opacity=\"1\" fill=\"#1E6414\" stroke=\"none\"/>\n",
       "<rect x=\"791\" y=\"42\" width=\"32\" height=\"322\" opacity=\"1\" fill=\"#1E6414\" stroke=\"none\"/>\n",
       "<rect x=\"831\" y=\"36\" width=\"32\" height=\"328\" opacity=\"1\" fill=\"#1E6414\" stroke=\"none\"/>\n",
       "<rect x=\"871\" y=\"29\" width=\"33\" height=\"335\" opacity=\"1\" fill=\"#1E6414\" stroke=\"none\"/>\n",
       "<rect x=\"912\" y=\"27\" width=\"32\" height=\"337\" opacity=\"1\" fill=\"#1E6414\" stroke=\"none\"/>\n",
       "<rect x=\"952\" y=\"10\" width=\"32\" height=\"354\" opacity=\"1\" fill=\"#1E6414\" stroke=\"none\"/>\n",
       "</svg>\n"
      ],
      "text/plain": [
       "series: kind: bar, series: x: 2000, y: 9109038, x: 2001, y: 9036159, x: 2002, y: 9129798, x: 2003, y: 9459999, x: 2004, y: 10275174, x: 2005, y: 10726932, x: 2006, y: 11109930, x: 2007, y: 11351079, x: 2008, y: 11595300, x: 2009, y: 11680239, x: 2010, y: 11517015, x: 2011, y: 11526618, x: 2012, y: 11513895, x: 2013, y: 11590815, x: 2014, y: 12009198, x: 2015, y: 12310005, x: 2016, y: 12559281, x: 2017, y: 12904980, x: 2018, y: 13046571, x: 2019, y: 13325616, x: 2020, y: 13582815, x: 2021, y: 13682886, x: 2022, y: 14338263, color: r: 30, g: 100, b: 20, a: 1, filled: true, stroke_width: 1\r\n",
       "width: 1000\r\n",
       "height: 400\r\n",
       "background: \r\n",
       "caption: \r\n",
       "margin: 10, 10, 0, 25\r\n",
       "label_area: 0, 0, 35, 35\r\n",
       "x_range: \r\n",
       "y_range: "
      ]
     },
     "execution_count": 6,
     "metadata": {},
     "output_type": "execute_result"
    }
   ],
   "source": [
    "$df \n",
    "| polars group-by year \n",
    "| polars agg (polars col geo_count | polars sum)\n",
    "| polars sort-by year \n",
    "| polars into-nu\n",
    "| rename x y\n",
    "| series bar -c [30, 100, 20]\n",
    "| chart 2d -W 1000 -m [10, 10, 0, 25]\n",
    "| nuju display svg"
   ]
  }
 ],
 "metadata": {
  "kernelspec": {
   "display_name": "Nushell",
   "language": "nushell",
   "name": "nu"
  },
  "language_info": {
   "file_extension": ".nu",
   "mimetype": "text/nu",
   "name": "nushell",
   "version": "0.97"
  }
 },
 "nbformat": 4,
 "nbformat_minor": 2
}
