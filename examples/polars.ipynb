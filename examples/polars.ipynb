{
 "cells": [
  {
   "cell_type": "markdown",
   "metadata": {},
   "source": [
    "# Polars Example\n",
    "This is a little example using the `nu_plugin_polars` to showcase that you can use dataframes pretty well with this kernel. The `nu_plugin_polars` is based on the dataframe libray [Polars](https://polar.rs), it is completely written in Rust (just like this kernel) and executes dataframes way faster that [Pandas](https://pandas.pydata.org), but do consider that we loose some performance in form of communication from your jupyter client, to the kernel, to the plugin and all the way back. It should be still fast to use.\n",
    "\n",
    "To start using the plugin, you need to have it installed, this can easily be done via `cargo install nu_plugin_polars` on a machine that has the full Rust toolchain installed. Then you need to add the plugin to your plugin registry, if you have `nushell` installed (I guess so, because you are using this kernel), you simply run `plugin add <absolute-path-to-your-plugin>`, this will add it to your plugin registry and this kernel will be able to pick it up. If you don't have `nushell` on your machine (kinda weird, not gonna lie), you can also run the `plugin add` command in a notebook, for further help try to run `plugin --help` or check the [Plugins section](https://www.nushell.sh/book/plugins.html) on the nushell website."
   ]
  },
  {
   "cell_type": "markdown",
   "metadata": {},
   "source": [
    "Plugins in `nushell` are automatically loaded from your registry when you open the shell. However, for this kernel they need to be loaded manually, this ensures that other users of your notebook understand where some of the commands you're using are coming from."
   ]
  },
  {
   "cell_type": "code",
   "execution_count": 1,
   "metadata": {},
   "outputs": [],
   "source": [
    "# load the `polars` plugin to use its commands\n",
    "plugin use polars"
   ]
  },
  {
   "cell_type": "markdown",
   "metadata": {},
   "source": [
    "You also need some data for this notebook. This is using the [New Zealand business demography](https://www.stats.govt.nz/assets/Uploads/New-Zealand-business-demography-statistics/New-Zealand-business-demography-statistics-At-February-2020/Download-data/Geographic-units-by-industry-and-statistical-area-2000-2020-descending-order-CSV.zip) dataset. You can load it via the adjacent `polars-data.nu` file. If that run succesfully you should see in the `ls data` output the file `Data7602DescendingYearOrder.csv`."
   ]
  },
  {
   "cell_type": "code",
   "execution_count": 2,
   "metadata": {},
   "outputs": [
    {
     "data": {
      "text/markdown": [
       "|name|type|size|modified|\n",
       "|-|-|-|-|\n",
       "|data\\Data7602DescendingYearOrder.csv|file|129.3 MiB|Wed, 5 Oct 2022 14:44:48 +0200 (2 years ago)|\n",
       "|data\\Metadata for Data7602DescendingYearOrder.xlsx|file|106.1 KiB|Thu, 20 Oct 2022 10:41:12 +0200 (2 years ago)|\n",
       "|data\\nz-stats.zip|file|22.9 MiB|Wed, 15 May 2024 12:30:31 +0200 (3 days ago)|"
      ],
      "text/plain": [
       "name: data\\Data7602DescendingYearOrder.csv, type: file, size: 129.3 MiB, modified: Wed, 5 Oct 2022 14:44:48 +0200 (2 years ago)\r\n",
       "name: data\\Metadata for Data7602DescendingYearOrder.xlsx, type: file, size: 106.1 KiB, modified: Thu, 20 Oct 2022 10:41:12 +0200 (2 years ago)\r\n",
       "name: data\\nz-stats.zip, type: file, size: 22.9 MiB, modified: Wed, 15 May 2024 12:30:31 +0200 (3 days ago)"
      ]
     },
     "execution_count": 2,
     "metadata": {},
     "output_type": "execute_result"
    }
   ],
   "source": [
    "ls data | nuju display md"
   ]
  },
  {
   "cell_type": "markdown",
   "metadata": {},
   "source": [
    "Ok, then let's load the csv file and check that the plugin loaded it."
   ]
  },
  {
   "cell_type": "code",
   "execution_count": 3,
   "metadata": {},
   "outputs": [
    {
     "data": {
      "text/markdown": [
       "|key|created|columns|rows|type|estimated_size|span_contents|span_start|span_end|reference_count|\n",
       "|-|-|-|-|-|-|-|-|-|-|\n",
       "|13673bdd-ea5e-4d11-89b1-b7fa2024e822|Sun, 19 May 2024 11:10:05 +0200 (now)|5|5985364|LazyFrame|194.0 MiB|polars open|137|148|1|\n"
      ],
      "text/plain": [
       "key: 13673bdd-ea5e-4d11-89b1-b7fa2024e822, created: Sun, 19 May 2024 11:10:05 +0200 (now), columns: 5, rows: 5985364, type: LazyFrame, estimated_size: 194.0 MiB, span_contents: polars open, span_start: 137, span_end: 148, reference_count: 1"
      ]
     },
     "execution_count": 3,
     "metadata": {},
     "output_type": "execute_result"
    }
   ],
   "source": [
    "let df = polars open data/Data7602DescendingYearOrder.csv\n",
    "polars store-ls | nuju display md"
   ]
  },
  {
   "cell_type": "markdown",
   "metadata": {},
   "source": [
    "We can also check the shape and schema of the dataset."
   ]
  },
  {
   "cell_type": "code",
   "execution_count": 4,
   "metadata": {},
   "outputs": [
    {
     "data": {
      "application/json": [
       {
        "columns": 5,
        "index": 0,
        "rows": 5985364
       }
      ],
      "text/html": [
       "<div style=\"background-color:white;color:black;\">[{index: 0, rows: 5985364, columns: 5}]</div>"
      ],
      "text/markdown": [
       "[{index: 0, rows: 5985364, columns: 5}]\n"
      ],
      "text/plain": [
       "index: 0, rows: 5985364, columns: 5"
      ]
     },
     "metadata": {},
     "output_type": "display_data"
    },
    {
     "data": {
      "application/json": {
       "Area": "str",
       "anzsic06": "str",
       "ec_count": "i64",
       "geo_count": "i64",
       "year": "i64"
      },
      "text/csv": [
       "anzsic06,Area,year,geo_count,ec_count\n",
       "str,str,i64,i64,i64\n"
      ],
      "text/html": [
       "<div style=\"background-color:white;color:black;\"><table><thead><tr><th>anzsic06</th><th>Area</th><th>year</th><th>geo_count</th><th>ec_count</th></tr></thead><tbody><tr><td>str</td><td>str</td><td>i64</td><td>i64</td><td>i64</td></tr></tbody></table></div>"
      ],
      "text/markdown": [
       "|anzsic06|Area|year|geo_count|ec_count|\n",
       "|-|-|-|-|-|\n",
       "|str|str|i64|i64|i64|\n"
      ],
      "text/plain": [
       "anzsic06: str\r\n",
       "Area: str\r\n",
       "year: i64\r\n",
       "geo_count: i64\r\n",
       "ec_count: i64"
      ]
     },
     "metadata": {},
     "output_type": "display_data"
    }
   ],
   "source": [
    "$df | polars shape | nuju print\n",
    "$df | polars schema | nuju print"
   ]
  },
  {
   "cell_type": "markdown",
   "metadata": {},
   "source": [
    "And let's get a sample of the dataset."
   ]
  },
  {
   "cell_type": "code",
   "execution_count": 5,
   "metadata": {},
   "outputs": [
    {
     "data": {
      "text/markdown": [
       "|index|anzsic06|Area|year|geo_count|ec_count|\n",
       "|-|-|-|-|-|-|\n",
       "|0|F380|A120800|2011|3|0|\n",
       "|1|E301|A337100|2001|3|6|\n",
       "|2|Q879|T031|2014|36|410|\n",
       "|3|F332|A136200|2005|0|0|\n",
       "|4|I510|A206200|2005|0|0|"
      ],
      "text/plain": [
       "index: 0, anzsic06: F380, Area: A120800, year: 2011, geo_count: 3, ec_count: 0\r\n",
       "index: 1, anzsic06: E301, Area: A337100, year: 2001, geo_count: 3, ec_count: 6\r\n",
       "index: 2, anzsic06: Q879, Area: T031, year: 2014, geo_count: 36, ec_count: 410\r\n",
       "index: 3, anzsic06: F332, Area: A136200, year: 2005, geo_count: 0, ec_count: 0\r\n",
       "index: 4, anzsic06: I510, Area: A206200, year: 2005, geo_count: 0, ec_count: 0"
      ]
     },
     "execution_count": 5,
     "metadata": {},
     "output_type": "execute_result"
    }
   ],
   "source": [
    "$df | polars sample -n 5 | polars into-nu | nuju display md"
   ]
  },
  {
   "cell_type": "markdown",
   "metadata": {},
   "source": [
    "And finally do some data operations on the dataset. We group the data by year, sum up the geo_count column and sort it by year. To print data effectively we sometimes have to convert the dataframe into a `nu` object and display it that way."
   ]
  },
  {
   "cell_type": "code",
   "execution_count": 6,
   "metadata": {},
   "outputs": [
    {
     "data": {
      "text/markdown": [
       "|index|year|geo_count|\n",
       "|-|-|-|\n",
       "|0|2000|9109038|\n",
       "|1|2001|9036159|\n",
       "|2|2002|9129798|\n",
       "|3|2003|9459999|\n",
       "|4|2004|10275174|\n",
       "|5|2005|10726932|\n",
       "|6|2006|11109930|\n",
       "|7|2007|11351079|\n",
       "|8|2008|11595300|\n",
       "|9|2009|11680239|\n",
       "|10|2010|11517015|\n",
       "|11|2011|11526618|\n",
       "|12|2012|11513895|\n",
       "|13|2013|11590815|\n",
       "|14|2014|12009198|\n",
       "|15|2015|12310005|\n",
       "|16|2016|12559281|\n",
       "|17|2017|12904980|\n",
       "|18|2018|13046571|\n",
       "|19|2019|13325616|\n",
       "|20|2020|13582815|\n",
       "|21|2021|13682886|\n",
       "|22|2022|14338263|"
      ],
      "text/plain": [
       "index: 0, year: 2000, geo_count: 9109038\r\n",
       "index: 1, year: 2001, geo_count: 9036159\r\n",
       "index: 2, year: 2002, geo_count: 9129798\r\n",
       "index: 3, year: 2003, geo_count: 9459999\r\n",
       "index: 4, year: 2004, geo_count: 10275174\r\n",
       "index: 5, year: 2005, geo_count: 10726932\r\n",
       "index: 6, year: 2006, geo_count: 11109930\r\n",
       "index: 7, year: 2007, geo_count: 11351079\r\n",
       "index: 8, year: 2008, geo_count: 11595300\r\n",
       "index: 9, year: 2009, geo_count: 11680239\r\n",
       "index: 10, year: 2010, geo_count: 11517015\r\n",
       "index: 11, year: 2011, geo_count: 11526618\r\n",
       "index: 12, year: 2012, geo_count: 11513895\r\n",
       "index: 13, year: 2013, geo_count: 11590815\r\n",
       "index: 14, year: 2014, geo_count: 12009198\r\n",
       "index: 15, year: 2015, geo_count: 12310005\r\n",
       "index: 16, year: 2016, geo_count: 12559281\r\n",
       "index: 17, year: 2017, geo_count: 12904980\r\n",
       "index: 18, year: 2018, geo_count: 13046571\r\n",
       "index: 19, year: 2019, geo_count: 13325616\r\n",
       "index: 20, year: 2020, geo_count: 13582815\r\n",
       "index: 21, year: 2021, geo_count: 13682886\r\n",
       "index: 22, year: 2022, geo_count: 14338263"
      ]
     },
     "execution_count": 6,
     "metadata": {},
     "output_type": "execute_result"
    }
   ],
   "source": [
    "$df \n",
    "| polars group-by year \n",
    "| polars agg (polars col geo_count | polars sum)\n",
    "| polars sort-by year \n",
    "| polars into-nu \n",
    "| nuju display md"
   ]
  }
 ],
 "metadata": {
  "kernelspec": {
   "display_name": "Nushell",
   "language": "nushell",
   "name": "nu"
  },
  "language_info": {
   "file_extension": ".nu",
   "mimetype": "text/nu",
   "name": "nushell",
   "version": "0.93.1"
  }
 },
 "nbformat": 4,
 "nbformat_minor": 2
}
