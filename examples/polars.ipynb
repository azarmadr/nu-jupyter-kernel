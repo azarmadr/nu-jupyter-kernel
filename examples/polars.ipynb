{
 "cells": [
  {
   "cell_type": "markdown",
   "metadata": {},
   "source": [
    "# Polars Example\n",
    "This is a little example using the `nu_plugin_polars` to showcase that you can use dataframes pretty well with this kernel. The `nu_plugin_polars` is based on the dataframe libray [Polars](https://polar.rs), it is completely written in Rust (just like this kernel) and executes dataframes way faster that [Pandas](https://pandas.pydata.org), but do consider that we loose some performance in form of communication from your jupyter client, to the kernel, to the plugin and all the way back. It should be still fast to use.\n",
    "\n",
    "To start using the plugin, you need to have it installed, this can easily be done via `cargo install nu_plugin_polars` on a machine that has the full Rust toolchain installed. Then you need to add the plugin to your plugin registry, if you have `nushell` installed (I guess so, because you are using this kernel), you simply run `plugin add <absolute-path-to-your-plugin>`, this will add it to your plugin registry and this kernel will be able to pick it up. If you don't have `nushell` on your machine (kinda weird, not gonna lie), you can also run the `plugin add` command in a notebook, for further help try to run `plugin --help` or check the [Plugins section](https://www.nushell.sh/book/plugins.html) on the nushell website."
   ]
  },
  {
   "cell_type": "markdown",
   "metadata": {},
   "source": [
    "Plugins in `nushell` are automatically loaded from your registry when you open the shell. However, for this kernel they need to be loaded manually, this ensures that other users of your notebook understand where some of the commands you're using are coming from."
   ]
  },
  {
   "cell_type": "code",
   "execution_count": 1,
   "metadata": {},
   "outputs": [],
   "source": [
    "# load the `polars` plugin to use its commands\n",
    "plugin use polars"
   ]
  },
  {
   "cell_type": "markdown",
   "metadata": {},
   "source": [
    "You also need some data for this notebook. This is using the [New Zealand business demography](https://www.stats.govt.nz/assets/Uploads/New-Zealand-business-demography-statistics/New-Zealand-business-demography-statistics-At-February-2020/Download-data/Geographic-units-by-industry-and-statistical-area-2000-2020-descending-order-CSV.zip) dataset. You can load it via the adjacent `polars-data.nu` file. If that run succesfully you should see in the `ls data` output the file `Data7602DescendingYearOrder.csv`."
   ]
  },
  {
   "cell_type": "code",
   "execution_count": 2,
   "metadata": {},
   "outputs": [
    {
     "data": {
      "text/markdown": [
       "|name|type|size|modified|\n",
       "|-|-|-|-|\n",
       "|data\\Data7602DescendingYearOrder.csv|file|129.3 MiB|Wed, 5 Oct 2022 14:44:48 +0200 (2 years ago)|\n",
       "|data\\Metadata for Data7602DescendingYearOrder.xlsx|file|106.1 KiB|Thu, 20 Oct 2022 10:41:12 +0200 (2 years ago)|\n",
       "|data\\nz-stats.zip|file|22.9 MiB|Wed, 15 May 2024 12:30:31 +0200 (3 months ago)|"
      ],
      "text/plain": [
       "name: data\\Data7602DescendingYearOrder.csv, type: file, size: 129.3 MiB, modified: Wed, 5 Oct 2022 14:44:48 +0200 (2 years ago)\r\n",
       "name: data\\Metadata for Data7602DescendingYearOrder.xlsx, type: file, size: 106.1 KiB, modified: Thu, 20 Oct 2022 10:41:12 +0200 (2 years ago)\r\n",
       "name: data\\nz-stats.zip, type: file, size: 22.9 MiB, modified: Wed, 15 May 2024 12:30:31 +0200 (3 months ago)"
      ]
     },
     "execution_count": 2,
     "metadata": {},
     "output_type": "execute_result"
    }
   ],
   "source": [
    "ls data | nuju display md"
   ]
  },
  {
   "cell_type": "markdown",
   "metadata": {},
   "source": [
    "Ok, then let's load the csv file and check that the plugin loaded it."
   ]
  },
  {
   "cell_type": "code",
   "execution_count": 3,
   "metadata": {},
   "outputs": [
    {
     "data": {
      "text/markdown": [
       "|key|created|columns|rows|type|estimated_size|span_contents|span_start|span_end|reference_count|\n",
       "|-|-|-|-|-|-|-|-|-|-|\n",
       "|169f1b80-0278-44d9-a686-bfe04998ece8|Thu, 15 Aug 2024 09:43:51 +0200 (now)|5|5985364|DataFrame|194.0 MiB|polars open|137|148|1|\n"
      ],
      "text/plain": [
       "key: 169f1b80-0278-44d9-a686-bfe04998ece8, created: Thu, 15 Aug 2024 09:43:51 +0200 (now), columns: 5, rows: 5985364, type: DataFrame, estimated_size: 194.0 MiB, span_contents: polars open, span_start: 137, span_end: 148, reference_count: 1"
      ]
     },
     "execution_count": 3,
     "metadata": {},
     "output_type": "execute_result"
    }
   ],
   "source": [
    "let df = polars open data/Data7602DescendingYearOrder.csv\n",
    "polars store-ls | nuju display md"
   ]
  },
  {
   "cell_type": "markdown",
   "metadata": {},
   "source": [
    "We can also check the shape and schema of the dataset."
   ]
  },
  {
   "cell_type": "code",
   "execution_count": 4,
   "metadata": {},
   "outputs": [
    {
     "data": {
      "application/json": [
       {
        "columns": 5,
        "index": 0,
        "rows": 5985364
       }
      ],
      "text/html": [
       "<div style=\"background-color:white;color:black;\">[{index: 0, rows: 5985364, columns: 5}]</div>"
      ],
      "text/markdown": [
       "[{index: 0, rows: 5985364, columns: 5}]\n"
      ],
      "text/plain": [
       "index: 0, rows: 5985364, columns: 5"
      ]
     },
     "metadata": {},
     "output_type": "display_data"
    },
    {
     "data": {
      "application/json": {
       "Area": "str",
       "anzsic06": "str",
       "ec_count": "i64",
       "geo_count": "i64",
       "year": "i64"
      },
      "text/csv": [
       "anzsic06,Area,year,geo_count,ec_count\n",
       "str,str,i64,i64,i64\n"
      ],
      "text/html": [
       "<div style=\"background-color:white;color:black;\"><table><thead><tr><th>anzsic06</th><th>Area</th><th>year</th><th>geo_count</th><th>ec_count</th></tr></thead><tbody><tr><td>str</td><td>str</td><td>i64</td><td>i64</td><td>i64</td></tr></tbody></table></div>"
      ],
      "text/markdown": [
       "|anzsic06|Area|year|geo_count|ec_count|\n",
       "|-|-|-|-|-|\n",
       "|str|str|i64|i64|i64|\n"
      ],
      "text/plain": [
       "anzsic06: str\r\n",
       "Area: str\r\n",
       "year: i64\r\n",
       "geo_count: i64\r\n",
       "ec_count: i64"
      ]
     },
     "metadata": {},
     "output_type": "display_data"
    }
   ],
   "source": [
    "$df | polars shape | nuju print\n",
    "$df | polars schema | nuju print"
   ]
  },
  {
   "cell_type": "markdown",
   "metadata": {},
   "source": [
    "And let's get a sample of the dataset."
   ]
  },
  {
   "cell_type": "code",
   "execution_count": 5,
   "metadata": {},
   "outputs": [
    {
     "data": {
      "text/markdown": [
       "|anzsic06|Area|year|geo_count|ec_count|\n",
       "|-|-|-|-|-|\n",
       "|C16|A192800|2003|6|6|\n",
       "|K622|A127500|2019|6|85|\n",
       "|S955|A348200|2008|3|3|\n",
       "|A051|A242700|2012|3|3|\n",
       "|A|A169800|2009|84|75|"
      ],
      "text/plain": [
       "anzsic06: C16, Area: A192800, year: 2003, geo_count: 6, ec_count: 6\r\n",
       "anzsic06: K622, Area: A127500, year: 2019, geo_count: 6, ec_count: 85\r\n",
       "anzsic06: S955, Area: A348200, year: 2008, geo_count: 3, ec_count: 3\r\n",
       "anzsic06: A051, Area: A242700, year: 2012, geo_count: 3, ec_count: 3\r\n",
       "anzsic06: A, Area: A169800, year: 2009, geo_count: 84, ec_count: 75"
      ]
     },
     "execution_count": 5,
     "metadata": {},
     "output_type": "execute_result"
    }
   ],
   "source": [
    "$df | polars sample -n 5 | polars into-nu | nuju display md"
   ]
  },
  {
   "cell_type": "markdown",
   "metadata": {},
   "source": [
    "And finally do some data operations on the dataset. We group the data by year, sum up the geo_count column and sort it by year. To print data effectively we sometimes have to convert the dataframe into a `nu` object and display it that way."
   ]
  },
  {
   "cell_type": "code",
   "execution_count": 6,
   "metadata": {},
   "outputs": [
    {
     "data": {
      "text/markdown": [
       "|year|geo_count|\n",
       "|-|-|\n",
       "|2000|9109038|\n",
       "|2001|9036159|\n",
       "|2002|9129798|\n",
       "|2003|9459999|\n",
       "|2004|10275174|\n",
       "|2005|10726932|\n",
       "|2006|11109930|\n",
       "|2007|11351079|\n",
       "|2008|11595300|\n",
       "|2009|11680239|\n",
       "|2010|11517015|\n",
       "|2011|11526618|\n",
       "|2012|11513895|\n",
       "|2013|11590815|\n",
       "|2014|12009198|\n",
       "|2015|12310005|\n",
       "|2016|12559281|\n",
       "|2017|12904980|\n",
       "|2018|13046571|\n",
       "|2019|13325616|\n",
       "|2020|13582815|\n",
       "|2021|13682886|\n",
       "|2022|14338263|"
      ],
      "text/plain": [
       "year: 2000, geo_count: 9109038\r\n",
       "year: 2001, geo_count: 9036159\r\n",
       "year: 2002, geo_count: 9129798\r\n",
       "year: 2003, geo_count: 9459999\r\n",
       "year: 2004, geo_count: 10275174\r\n",
       "year: 2005, geo_count: 10726932\r\n",
       "year: 2006, geo_count: 11109930\r\n",
       "year: 2007, geo_count: 11351079\r\n",
       "year: 2008, geo_count: 11595300\r\n",
       "year: 2009, geo_count: 11680239\r\n",
       "year: 2010, geo_count: 11517015\r\n",
       "year: 2011, geo_count: 11526618\r\n",
       "year: 2012, geo_count: 11513895\r\n",
       "year: 2013, geo_count: 11590815\r\n",
       "year: 2014, geo_count: 12009198\r\n",
       "year: 2015, geo_count: 12310005\r\n",
       "year: 2016, geo_count: 12559281\r\n",
       "year: 2017, geo_count: 12904980\r\n",
       "year: 2018, geo_count: 13046571\r\n",
       "year: 2019, geo_count: 13325616\r\n",
       "year: 2020, geo_count: 13582815\r\n",
       "year: 2021, geo_count: 13682886\r\n",
       "year: 2022, geo_count: 14338263"
      ]
     },
     "execution_count": 6,
     "metadata": {},
     "output_type": "execute_result"
    }
   ],
   "source": [
    "$df \n",
    "| polars group-by year \n",
    "| polars agg (polars col geo_count | polars sum)\n",
    "| polars sort-by year \n",
    "| polars into-nu \n",
    "| nuju display md"
   ]
  }
 ],
 "metadata": {
  "kernelspec": {
   "display_name": "Nushell",
   "language": "nushell",
   "name": "nu"
  },
  "language_info": {
   "file_extension": ".nu",
   "mimetype": "text/nu",
   "name": "nushell",
   "version": "0.96"
  }
 },
 "nbformat": 4,
 "nbformat_minor": 2
}
