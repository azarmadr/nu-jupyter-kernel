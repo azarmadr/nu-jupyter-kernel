{
 "cells": [
  {
   "cell_type": "code",
   "execution_count": 5,
   "id": "fb2910e8",
   "metadata": {},
   "outputs": [
    {
     "data": {
      "application/json": {
       "category": "core",
       "command_type": "keyword",
       "input_output": [
        {
         "input": "nothing",
         "output": "nothing"
        }
       ],
       "name": "alias",
       "params": [
        {
         "description": "Name of the alias.",
         "name": "name",
         "required": true,
         "type": "string"
        },
        {
         "description": "Equals sign followed by value.",
         "name": "initial_value",
         "required": true,
         "type": "\"=\" expression"
        },
        {
         "description": "Display the help message for this command",
         "name": "--help(-h)",
         "required": false,
         "type": "switch"
        }
       ],
       "search_terms": "abbr, aka, fn, func, function",
       "usage": "Alias a command (with optional flags) to a new name."
      },
      "text/markdown": [
       "|name|category|command_type|usage|params|input_output|search_terms|\n",
       "|-|-|-|-|-|-|-|\n",
       "|alias|core|keyword|Alias a command (with optional flags) to a new name.|[{name: name, type: string, required: true, description: Name of the alias.}, {name: initial_value, type: \"=\" expression, required: true, description: Equals sign followed by value.}, {name: --help(-h), type: switch, required: false, description: Display the help message for this command}]|[{input: nothing, output: nothing}]|abbr, aka, fn, func, function|\n"
      ],
      "text/plain": [
       "name: alias\r\n",
       "category: core\r\n",
       "command_type: keyword\r\n",
       "usage: Alias a command (with optional flags) to a new name.\r\n",
       "params: name: name, type: string, required: true, description: Name of the alias., name: initial_value, type: \"=\" expression, required: true, description: Equals sign followed by value., name: --help(-h), type: switch, required: false, description: Display the help message for this command\r\n",
       "input_output: input: nothing, output: nothing\r\n",
       "search_terms: abbr, aka, fn, func, function"
      ]
     },
     "execution_count": 5,
     "metadata": {},
     "output_type": "execute_result"
    }
   ],
   "source": [
    "help commands | first"
   ]
  },
  {
   "cell_type": "code",
   "execution_count": 2,
   "id": "819fe0b4",
   "metadata": {},
   "outputs": [
    {
     "data": {
      "application/json": null,
      "text/markdown": [],
      "text/plain": []
     },
     "execution_count": 2,
     "metadata": {},
     "output_type": "execute_result"
    }
   ],
   "source": [
    "let a = {a: 3}"
   ]
  },
  {
   "cell_type": "code",
   "execution_count": 3,
   "id": "bc9e0084",
   "metadata": {},
   "outputs": [
    {
     "data": {
      "application/json": {
       "a": 3
      },
      "text/csv": [
       "a\n",
       "3\n"
      ],
      "text/markdown": [
       "|a|\n",
       "|-|\n",
       "|3|"
      ],
      "text/plain": [
       "a: 3"
      ]
     },
     "execution_count": 3,
     "metadata": {},
     "output_type": "execute_result"
    }
   ],
   "source": [
    "$a"
   ]
  }
 ],
 "metadata": {
  "kernelspec": {
   "display_name": "Nushell",
   "language": "nushell",
   "name": "nu"
  },
  "language_info": {
   "file_extension": ".nu",
   "mimetype": "text/nu",
   "name": "nushell",
   "version": "0.92.2"
  }
 },
 "nbformat": 4,
 "nbformat_minor": 5
}
