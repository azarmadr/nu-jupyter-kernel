{
 "cells": [
  {
   "cell_type": "code",
   "execution_count": 1,
   "id": "819fe0b4",
   "metadata": {
    "vscode": {
     "languageId": "nushell"
    }
   },
   "outputs": [
    {
     "name": "stdout",
     "output_type": "stream",
     "text": [
      "hello, world"
     ]
    },
    {
     "data": {
      "text/plain": [
       "result!"
      ]
     },
     "execution_count": 1,
     "metadata": {},
     "output_type": "execute_result"
    }
   ],
   "source": [
    "print(\"\")"
   ]
  }
 ],
 "metadata": {
  "kernelspec": {
   "display_name": "simple_kernel",
   "language": "simple_kernel",
   "name": "simplekernel"
  },
  "language_info": {
   "codemirror_mode": "",
   "file_extension": ".py",
   "mimetype": "",
   "name": "simple_kernel",
   "nbconvert_exporter": "",
   "pygments_lexer": "",
   "version": "1.0"
  }
 },
 "nbformat": 4,
 "nbformat_minor": 5
}
