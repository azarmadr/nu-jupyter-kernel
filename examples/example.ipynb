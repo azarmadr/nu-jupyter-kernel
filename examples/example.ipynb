{
 "cells": [
  {
   "cell_type": "code",
   "execution_count": 1,
   "id": "fb2910e8",
   "metadata": {},
   "outputs": [
    {
     "data": {
      "application/json": "Welcome to Nushell.\n\nHere are some tips to help you get started.\n  * help -h or help help - show available `help` subcommands and examples\n  * help commands - list all available commands\n  * help <name> - display help about a particular command, alias, or module\n  * help --find <text to search> - search through all help commands table\n\nNushell works on the idea of a \"pipeline\". Pipelines are commands connected with the '|' character.\nEach stage in the pipeline works together to load, parse, and display information to you.\n\n[Examples]\n\nList the files in the current directory, sorted by size:\n    ls | sort-by size\n\nGet information about the current system:\n    sys | get host\n\nGet the processes on your system actively using CPU:\n    ps | where cpu > 0\n\nYou can also learn more at https://www.nushell.sh/book/",
      "text/markdown": [
       "Welcome to Nushell.\n",
       "\n",
       "Here are some tips to help you get started.\n",
       "  * help -h or help help - show available `help` subcommands and examples\n",
       "  * help commands - list all available commands\n",
       "  * help <name> - display help about a particular command, alias, or module\n",
       "  * help --find <text to search> - search through all help commands table\n",
       "\n",
       "Nushell works on the idea of a \"pipeline\". Pipelines are commands connected with the '|' character.\n",
       "Each stage in the pipeline works together to load, parse, and display information to you.\n",
       "\n",
       "[Examples]\n",
       "\n",
       "List the files in the current directory, sorted by size:\n",
       "    ls | sort-by size\n",
       "\n",
       "Get information about the current system:\n",
       "    sys | get host\n",
       "\n",
       "Get the processes on your system actively using CPU:\n",
       "    ps | where cpu > 0\n",
       "\n",
       "You can also learn more at https://www.nushell.sh/book/\n"
      ],
      "text/plain": [
       "Welcome to Nushell.\n",
       "\n",
       "Here are some tips to help you get started.\n",
       "  * help -h or help help - show available `help` subcommands and examples\n",
       "  * help commands - list all available commands\n",
       "  * help <name> - display help about a particular command, alias, or module\n",
       "  * help --find <text to search> - search through all help commands table\n",
       "\n",
       "Nushell works on the idea of a \"pipeline\". Pipelines are commands connected with the '|' character.\n",
       "Each stage in the pipeline works together to load, parse, and display information to you.\n",
       "\n",
       "[Examples]\n",
       "\n",
       "List the files in the current directory, sorted by size:\n",
       "    ls | sort-by size\n",
       "\n",
       "Get information about the current system:\n",
       "    sys | get host\n",
       "\n",
       "Get the processes on your system actively using CPU:\n",
       "    ps | where cpu > 0\n",
       "\n",
       "You can also learn more at https://www.nushell.sh/book/"
      ]
     },
     "execution_count": 1,
     "metadata": {},
     "output_type": "execute_result"
    }
   ],
   "source": [
    "help"
   ]
  },
  {
   "cell_type": "code",
   "execution_count": 2,
   "id": "ca821262",
   "metadata": {},
   "outputs": [
    {
     "data": {
      "application/json": [
       {
        "modified": "2024-04-23 13:37:05.216601200 +02:00",
        "name": "example.ipynb",
        "size": 592,
        "type": "file"
       }
      ],
      "text/csv": [
       "name,type,size,modified\n",
       "example.ipynb,file,592 B,2024-04-23 13:37:05.216601200 +02:00\n"
      ],
      "text/markdown": [
       "|name|type|size|modified|\n",
       "|-|-|-|-|\n",
       "|example.ipynb|file|592 B|Tue, 23 Apr 2024 13:37:05 +0200 (now)|\n"
      ],
      "text/plain": [
       "name: example.ipynb, type: file, size: 592 B, modified: Tue, 23 Apr 2024 13:37:05 +0200 (now)"
      ]
     },
     "execution_count": 2,
     "metadata": {},
     "output_type": "execute_result"
    }
   ],
   "source": [
    "ls"
   ]
  }
 ],
 "metadata": {
  "kernelspec": {
   "display_name": "Nushell",
   "language": "nushell",
   "name": "nu"
  },
  "language_info": {
   "file_extension": ".nu",
   "mimetype": "text/nu",
   "name": "nushell",
   "version": "0.92.2"
  }
 },
 "nbformat": 4,
 "nbformat_minor": 5
}
