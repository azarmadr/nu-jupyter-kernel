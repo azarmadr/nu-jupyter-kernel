{
 "cells": [
  {
   "cell_type": "code",
   "execution_count": null,
   "metadata": {},
   "outputs": [],
   "source": [
    "{a: 3} | to json"
   ]
  }
 ],
 "metadata": {
  "kernelspec": {
   "display_name": "Nushell",
   "language": "nushell",
   "name": "nu"
  },
  "language_info": {
   "name": "nushell"
  }
 },
 "nbformat": 4,
 "nbformat_minor": 2
}
